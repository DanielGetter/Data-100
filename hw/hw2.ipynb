{
 "cells": [
  {
   "cell_type": "code",
   "execution_count": 1,
   "metadata": {
    "deletable": false,
    "editable": false
   },
   "outputs": [
    {
     "name": "stdout",
     "output_type": "stream",
     "text": [
      "=====================================================================\n",
      "Assignment: hw2\n",
      "OK, version v1.13.11\n",
      "=====================================================================\n",
      "\n"
     ]
    }
   ],
   "source": [
    "# Initialize OK\n",
    "from client.api.notebook import Notebook\n",
    "ok = Notebook('hw2.ok')"
   ]
  },
  {
   "cell_type": "markdown",
   "metadata": {
    "nbgrader": {
     "grade": false,
     "grade_id": "introduction",
     "locked": true,
     "schema_version": 2,
     "solution": false
    }
   },
   "source": [
    "# Homework 2: Sampling Error and Bias\n",
    "## Due Date: Thursday, Sep 12, 11:59PM\n",
    "\n",
    "## Collaboration Policy\n",
    "\n",
    "Data science is a collaborative activity. While you may talk with others about\n",
    "the homework, we ask that you **write your solutions individually**. If you do\n",
    "discuss the assignments with others please **include their names** below."
   ]
  },
  {
   "cell_type": "markdown",
   "metadata": {},
   "source": [
    "**Collaborators**: *list collaborators here*"
   ]
  },
  {
   "cell_type": "markdown",
   "metadata": {},
   "source": [
    "## Grading\n",
    "\n",
    "Grading is broken down into autograded answers and free response. \n",
    "\n",
    "For autograded answers, the results of your code are compared to provided and/or hidden tests. **For autograded probability questions, the provided tests will only check that your answer is within a reasonable range.**\n",
    "\n",
    "For free response, readers will evaluate how well you answered the question and/or fulfilled the requirements of the question.\n",
    "\n",
    "For plots, make sure to be as descriptive as possible: include titles, axes labels, and units wherever applicable."
   ]
  },
  {
   "cell_type": "markdown",
   "metadata": {},
   "source": [
    "### Please make sure to save regularly; do not rely on autosave to save your work for you!"
   ]
  },
  {
   "cell_type": "markdown",
   "metadata": {},
   "source": [
    "## Scoring Breakdown\n",
    "\n",
    "|Question|Points|\n",
    "|---|---|\n",
    "|1.1|1|\n",
    "|1.2|1|\n",
    "|1.3|1|\n",
    "|2.1|1|\n",
    "|2.2|1|\n",
    "|2.3|1|\n",
    "|3.1|2|\n",
    "|3.2|2|\n",
    "|3.3|2|\n",
    "|4|2|\n",
    "|5.1|1|\n",
    "|5.2|1|\n",
    "|6|1|\n",
    "|7.1|2|\n",
    "|7.2|1|\n",
    "|7.3|1|\n",
    "|7.4|1|\n",
    "|7.5|2|\n",
    "|7.6|1|\n",
    "|8.1|1|\n",
    "|8.2|1|\n",
    "|8.3|2|\n",
    "|8.4|1|\n",
    "|9.1|1|\n",
    "|9.2|2|\n",
    "|10|2|\n",
    "|11|1|\n"
   ]
  },
  {
   "cell_type": "markdown",
   "metadata": {},
   "source": [
    "## Introduction\n",
    "\n",
    "The outcome of the US presidential election in 2016 took many people and many pollsters by surprise. In this assignment we will carry out a simulation study / post mortem in an attempt to understand what happened."
   ]
  },
  {
   "cell_type": "code",
   "execution_count": 2,
   "metadata": {
    "ExecuteTime": {
     "end_time": "2018-09-12T05:50:17.975391Z",
     "start_time": "2018-09-12T05:50:17.067217Z"
    },
    "nbgrader": {
     "grade": false,
     "grade_id": "setup",
     "locked": true,
     "schema_version": 2,
     "solution": false
    }
   },
   "outputs": [],
   "source": [
    "import numpy as np\n",
    "import matplotlib.pyplot as plt\n",
    "import seaborn as sns\n",
    "\n",
    "# Default plot configurations\n",
    "%matplotlib inline\n",
    "plt.rcParams['figure.figsize'] = (16,8)\n",
    "plt.rcParams['figure.dpi'] = 150\n",
    "sns.set()\n",
    "\n",
    "from IPython.display import display, Latex, Markdown"
   ]
  },
  {
   "cell_type": "markdown",
   "metadata": {},
   "source": [
    "# Background\n",
    "\n",
    "In Pennsylvania, 6,165,478 people voted in the election.\n",
    "Trump received 48.18% of the vote and Clinton recieved 47.46%.\n",
    "This doesn't add up to 100% because other candidates received votes.\n",
    "All together these other candidates received 100% - 48.18% - 47.46% = 4.36% of the vote.\n",
    "\n",
    "Suppose we could select one person at random from the 6+ million voters in PA (note: PA is the common abbreviation for Pennsylvania). We are interested in the chance that we'd choose a Trump, Clinton, or Other voter.\n",
    "\n",
    "Below is a probability table for the choice:\n",
    "\n",
    "\n",
    "|   Voted for   |  Trump|    Clinton|    Other|\n",
    "|-----------|-----------|-----------|---------|\n",
    "| Probability      |   0.4818   | 0.4746  |   0.0436 |\n",
    "| Number of people | 2,970,733  | 2,926,441 | 268,304 |"
   ]
  },
  {
   "cell_type": "markdown",
   "metadata": {},
   "source": [
    "### Question 1\n",
    "\n",
    "Suppose we take a simple random sample of $n = 1500$ voters from the 6+ million voters in PA.\n",
    "\n",
    "What is the expected number of Trump voters?\n",
    "What is the expected number of Clinton voters?\n",
    "\n",
    "To answer these questions, let $T_1$ be 1 if the first voter chosen for the sample voted for Trump and 0 if they voted for Clinton or another candidate.\n",
    "\n",
    "Let $T_2$ be 1 if the second voter chosen for the sample voted for Trump and 0 if they voted for Clinton or another candidate, and so on.\n",
    "\n",
    "Let's start with some very basic questions. Find: \n",
    "$$P(T_{1000} = 1)$$\n",
    "\n",
    "$$P(T_{1000} = 0)$$\n",
    "\n",
    "$$\\mathbb{E}(T_{17})$$\n",
    "\n",
    "\n",
    "\n",
    "\n"
   ]
  },
  {
   "cell_type": "markdown",
   "metadata": {
    "deletable": false,
    "editable": false
   },
   "source": [
    "#### Part 1 ####\n",
    "$P(T_{1000} = 1)$:\n",
    "\n",
    "<!--\n",
    "BEGIN QUESTION\n",
    "name: q1a\n",
    "points: 1\n",
    "-->"
   ]
  },
  {
   "cell_type": "code",
   "execution_count": 3,
   "metadata": {},
   "outputs": [
    {
     "data": {
      "text/plain": [
       "0.4818"
      ]
     },
     "execution_count": 3,
     "metadata": {},
     "output_type": "execute_result"
    }
   ],
   "source": [
    "q1a_answer = .4818\n",
    "q1a_answer"
   ]
  },
  {
   "cell_type": "code",
   "execution_count": 4,
   "metadata": {
    "deletable": false,
    "editable": false
   },
   "outputs": [
    {
     "name": "stdout",
     "output_type": "stream",
     "text": [
      "~~~~~~~~~~~~~~~~~~~~~~~~~~~~~~~~~~~~~~~~~~~~~~~~~~~~~~~~~~~~~~~~~~~~~\n",
      "Running tests\n",
      "\n",
      "---------------------------------------------------------------------\n",
      "Test summary\n",
      "    Passed: 1\n",
      "    Failed: 0\n",
      "[ooooooooook] 100.0% passed\n",
      "\n"
     ]
    }
   ],
   "source": [
    "ok.grade(\"q1a\");"
   ]
  },
  {
   "cell_type": "markdown",
   "metadata": {
    "deletable": false,
    "editable": false
   },
   "source": [
    "#### Part 2 ####\n",
    "$P(T_{1000} = 0)$:\n",
    "<!--\n",
    "BEGIN QUESTION\n",
    "name: q1b\n",
    "points: 1\n",
    "-->"
   ]
  },
  {
   "cell_type": "code",
   "execution_count": 5,
   "metadata": {},
   "outputs": [
    {
     "data": {
      "text/plain": [
       "0.5182"
      ]
     },
     "execution_count": 5,
     "metadata": {},
     "output_type": "execute_result"
    }
   ],
   "source": [
    "q1b_answer = 1-q1a_answer\n",
    "q1b_answer"
   ]
  },
  {
   "cell_type": "code",
   "execution_count": 6,
   "metadata": {
    "deletable": false,
    "editable": false
   },
   "outputs": [
    {
     "name": "stdout",
     "output_type": "stream",
     "text": [
      "~~~~~~~~~~~~~~~~~~~~~~~~~~~~~~~~~~~~~~~~~~~~~~~~~~~~~~~~~~~~~~~~~~~~~\n",
      "Running tests\n",
      "\n",
      "---------------------------------------------------------------------\n",
      "Test summary\n",
      "    Passed: 1\n",
      "    Failed: 0\n",
      "[ooooooooook] 100.0% passed\n",
      "\n"
     ]
    }
   ],
   "source": [
    "ok.grade(\"q1b\");"
   ]
  },
  {
   "cell_type": "markdown",
   "metadata": {
    "deletable": false,
    "editable": false
   },
   "source": [
    "#### Part 3 ####\n",
    "$E(T_{17})$:\n",
    "<!--\n",
    "BEGIN QUESTION\n",
    "name: q1c\n",
    "points: 1\n",
    "-->"
   ]
  },
  {
   "cell_type": "code",
   "execution_count": 7,
   "metadata": {},
   "outputs": [
    {
     "data": {
      "text/plain": [
       "0.4818"
      ]
     },
     "execution_count": 7,
     "metadata": {},
     "output_type": "execute_result"
    }
   ],
   "source": [
    "q1c_answer = .4818\n",
    "q1c_answer"
   ]
  },
  {
   "cell_type": "code",
   "execution_count": 8,
   "metadata": {
    "deletable": false,
    "editable": false
   },
   "outputs": [
    {
     "name": "stdout",
     "output_type": "stream",
     "text": [
      "~~~~~~~~~~~~~~~~~~~~~~~~~~~~~~~~~~~~~~~~~~~~~~~~~~~~~~~~~~~~~~~~~~~~~\n",
      "Running tests\n",
      "\n",
      "---------------------------------------------------------------------\n",
      "Test summary\n",
      "    Passed: 1\n",
      "    Failed: 0\n",
      "[ooooooooook] 100.0% passed\n",
      "\n"
     ]
    }
   ],
   "source": [
    "ok.grade(\"q1c\");"
   ]
  },
  {
   "cell_type": "markdown",
   "metadata": {
    "deletable": false,
    "editable": false
   },
   "source": [
    "### Question 2\n",
    "\n",
    "For each voter chosen for the sample, let's keep track of whether they voted for Trump, Clinton, or another candidate.\n",
    "\n",
    "We can do this with the triple $(T_i, C_i, O_i)$, $i = 1, 2, \\ldots, 1500$, where \n",
    "\n",
    "$T_i = 1$ if the $i$th voter sampled voted for Trump and 0 otherwise (this is the same random variable as in Question 1), <br>\n",
    "$C_i = 1$ if the $i$th voter sampled voted for Clinton and 0 otherwise, and <br>\n",
    "$O_i = 1$ if the $i$th voter sampled voted for another candidate and 0 otherwise.\n",
    "\n",
    "#### Part 1 ####\n",
    "\n",
    "Find\n",
    "\n",
    "$$ T_{17} + C_{17} + O_{17} = ?$$\n",
    "\n",
    "<!--\n",
    "BEGIN QUESTION\n",
    "name: q2a\n",
    "points: 1\n",
    "-->"
   ]
  },
  {
   "cell_type": "code",
   "execution_count": 9,
   "metadata": {},
   "outputs": [
    {
     "data": {
      "text/plain": [
       "1"
      ]
     },
     "execution_count": 9,
     "metadata": {},
     "output_type": "execute_result"
    }
   ],
   "source": [
    "q2a_answer = 1\n",
    "q2a_answer"
   ]
  },
  {
   "cell_type": "code",
   "execution_count": 10,
   "metadata": {
    "deletable": false,
    "editable": false
   },
   "outputs": [
    {
     "name": "stdout",
     "output_type": "stream",
     "text": [
      "~~~~~~~~~~~~~~~~~~~~~~~~~~~~~~~~~~~~~~~~~~~~~~~~~~~~~~~~~~~~~~~~~~~~~\n",
      "Running tests\n",
      "\n",
      "---------------------------------------------------------------------\n",
      "Test summary\n",
      "    Passed: 1\n",
      "    Failed: 0\n",
      "[ooooooooook] 100.0% passed\n",
      "\n"
     ]
    }
   ],
   "source": [
    "ok.grade(\"q2a\");"
   ]
  },
  {
   "cell_type": "markdown",
   "metadata": {
    "deletable": false,
    "editable": false
   },
   "source": [
    "#### Part 2 ####\n",
    "\n",
    "Define $N_T = \\sum_{i=1}^{1500} T_i$ and $N_C = \\sum_{i=1}^{1500} C_i$, and\n",
    "$N_O = \\sum_{i=1}^{1500} O_i$\n",
    "\n",
    "Notice that because they are sums of random variables, $N_T$ and $N_C$ and $N_O$ are random variables, too.\n",
    "\n",
    "Find the expected value of $N_T$, i.e.,\n",
    "\n",
    "$$\\mathbb{E}(N_T)$$\n",
    "\n",
    "In other words, find the expected number of Trump voters in our simple random sample of 1500 voters from Pennsylvania.\n",
    "\n",
    "<!--\n",
    "BEGIN QUESTION\n",
    "name: q2b\n",
    "points: 1\n",
    "-->"
   ]
  },
  {
   "cell_type": "code",
   "execution_count": 11,
   "metadata": {},
   "outputs": [
    {
     "data": {
      "text/plain": [
       "722.7"
      ]
     },
     "execution_count": 11,
     "metadata": {},
     "output_type": "execute_result"
    }
   ],
   "source": [
    "q2b_answer = 1500*.4818\n",
    "q2b_answer"
   ]
  },
  {
   "cell_type": "code",
   "execution_count": 12,
   "metadata": {
    "deletable": false,
    "editable": false
   },
   "outputs": [
    {
     "name": "stdout",
     "output_type": "stream",
     "text": [
      "~~~~~~~~~~~~~~~~~~~~~~~~~~~~~~~~~~~~~~~~~~~~~~~~~~~~~~~~~~~~~~~~~~~~~\n",
      "Running tests\n",
      "\n",
      "---------------------------------------------------------------------\n",
      "Test summary\n",
      "    Passed: 1\n",
      "    Failed: 0\n",
      "[ooooooooook] 100.0% passed\n",
      "\n"
     ]
    }
   ],
   "source": [
    "ok.grade(\"q2b\");"
   ]
  },
  {
   "cell_type": "markdown",
   "metadata": {
    "deletable": false,
    "editable": false
   },
   "source": [
    "#### Part 3 ####\n",
    "Find\n",
    "$$N_T + N_C + N_O = ?$$\n",
    "\n",
    "<!--\n",
    "BEGIN QUESTION\n",
    "name: q2c\n",
    "points: 1\n",
    "-->"
   ]
  },
  {
   "cell_type": "code",
   "execution_count": 13,
   "metadata": {},
   "outputs": [
    {
     "data": {
      "text/plain": [
       "1500"
      ]
     },
     "execution_count": 13,
     "metadata": {},
     "output_type": "execute_result"
    }
   ],
   "source": [
    "q2c_answer = 1500\n",
    "q2c_answer"
   ]
  },
  {
   "cell_type": "code",
   "execution_count": 14,
   "metadata": {
    "deletable": false,
    "editable": false
   },
   "outputs": [
    {
     "name": "stdout",
     "output_type": "stream",
     "text": [
      "~~~~~~~~~~~~~~~~~~~~~~~~~~~~~~~~~~~~~~~~~~~~~~~~~~~~~~~~~~~~~~~~~~~~~\n",
      "Running tests\n",
      "\n",
      "---------------------------------------------------------------------\n",
      "Test summary\n",
      "    Passed: 1\n",
      "    Failed: 0\n",
      "[ooooooooook] 100.0% passed\n",
      "\n"
     ]
    }
   ],
   "source": [
    "ok.grade(\"q2c\");"
   ]
  },
  {
   "cell_type": "markdown",
   "metadata": {
    "deletable": false,
    "editable": false
   },
   "source": [
    "### Question 3\n",
    "\n",
    "Given our population of Pennsylvania voters, every possible SRS has a certain well defined probability of occurring. For example, if we collected a SRS of only 2 voters without replacement (instead of 1500), the chance of each SRS is given in the probability distribution table below:\n",
    "\n",
    "|   $N_T$   |  $N_C$    |    $N_O$  |    $p$    |\n",
    "|-----------|-----------|-----------|-----------|\n",
    "|    0      |   0       |      2    |   0.00189373515   |\n",
    "|    0      |   1       |      1    |   0.04131080160    |\n",
    "|    1      |   0       |      1    |   0.04193604504   |\n",
    "|    0      |   2       |      0    |   0.22529213625   |\n",
    "|    1      |   1       |      0    |   0.45740422268   |\n",
    "|    2      |   0       |      0    |   0.23216338697   |\n",
    "\n",
    "\n",
    "\n",
    "As an exercise in probability, we will have you compute similar probabilities for a simple random sample of 4 people without replacement.\n",
    "\n",
    "#### Part 1 ####\n",
    "\n",
    "Find the following probability. Give your answer as an exact number (i.e. as a product of fractions).\n",
    "\n",
    "$$ P(N_T = 4, N_C = 0, N_O = 0)$$\n",
    "\n",
    "Hint: It is a product of four fractions, each of which has a distinct numerator and denominator.\n",
    "\n",
    "<!--\n",
    "BEGIN QUESTION\n",
    "name: q3a\n",
    "manual: true\n",
    "points: 2\n",
    "-->\n",
    "<!-- EXPORT TO PDF -->"
   ]
  },
  {
   "cell_type": "markdown",
   "metadata": {},
   "source": [
    "$(\\dfrac{2,970,733}{6,165,478})*(\\dfrac{2,970,732}{6,165,477})*(\\dfrac{2,970,731}{6,165,476})*(\\dfrac{2,970,730}{6,165,475})$"
   ]
  },
  {
   "cell_type": "markdown",
   "metadata": {
    "deletable": false,
    "editable": false
   },
   "source": [
    "#### Part 2 ####\n",
    "\n",
    "The answer from part 1 was a bit unwieldy.\n",
    "\n",
    "We can simplify the problem by assuming that the draws are *with replacement*. That is, once a draw is picked as a sample, it can be picked again in the future. In this case, what is the following probability:\n",
    "\n",
    "$$ P(N_T = 4, N_C = 0, N_O = 0)$$\n",
    "\n",
    "Give your answer as an exact value.\n",
    "\n",
    "<!--\n",
    "BEGIN QUESTION\n",
    "name: q3b\n",
    "manual: true\n",
    "points: 2\n",
    "-->\n",
    "<!-- EXPORT TO PDF -->"
   ]
  },
  {
   "cell_type": "markdown",
   "metadata": {},
   "source": [
    "$(.4818)^4$"
   ]
  },
  {
   "cell_type": "markdown",
   "metadata": {
    "deletable": false,
    "editable": false
   },
   "source": [
    "#### Part 3 ####\n",
    "\n",
    "Under this same simplfying assumption (that we sample with replacement), find the following probabilities:\n",
    "\n",
    "$$ P(N_T = 2, N_C = 2, N_O = 0)$$\n",
    "$$ P(N_T = 2, N_C = 1, N_O = 1)$$\n",
    "\n",
    "Hint: See the \"Fun Problem Related to HW\" from the [September 5th lecture](http://www.ds100.org/fa19/resources/assets/lectures/lec03/03-data-generation-annotated.pdf) if you're not sure how to proceed.\n",
    "\n",
    "<!--\n",
    "BEGIN QUESTION\n",
    "name: q3c\n",
    "manual: true\n",
    "points: 2\n",
    "-->\n",
    "<!-- EXPORT TO PDF -->"
   ]
  },
  {
   "cell_type": "markdown",
   "metadata": {},
   "source": [
    "$P(N_T=2, N_C=2, N_O=0)=(\\dfrac{4!}{2!2!0!})*(.4818)^2*(.4716)^2$\n",
    "\n",
    "$P(N_T=2, N_C=1, N_O=1)=(\\dfrac{4!}{1!1!2!})*(.4818)^2*(.4716)^2*(.0436)$"
   ]
  },
  {
   "cell_type": "markdown",
   "metadata": {
    "deletable": false,
    "editable": false
   },
   "source": [
    "### Question 4\n",
    "\n",
    "Can you generalize the above probability calculation and\n",
    "express the probability in terms of a probability mass function?\n",
    "\n",
    "To set up the problem, let random variables $N_1, N_2, N_3$ be the number of Trump, Clinton, and Other voters selected, respectively.\n",
    "\n",
    "Let $p_1, p_2, p_3$ be the chance of a Trump, Clinton, Other voter being chosen, respectively,\n",
    "and let $n$ be the size of the sample drawn (with replacement).\n",
    "\n",
    "In general, what is\n",
    "\n",
    "$$ P(N_1 = k_1, N_2 = k_2, N_3 = k_3) = ?$$\n",
    "\n",
    "Hint: The answer involves $n!, k_1!, k_2!, k_3!$ and $p_1, p_2, p_3$ raised to various powers. Also note this may be a particularly tough problem depending on your math background. Take your time, and please discuss with fellow students and instructors. You don't need to get this problem right to complete the questions later in this homework.\n",
    "\n",
    "\n",
    "<!--\n",
    "BEGIN QUESTION\n",
    "name: q4\n",
    "manual: true\n",
    "points: 2\n",
    "-->\n",
    "\n",
    "<!-- EXPORT TO PDF -->"
   ]
  },
  {
   "cell_type": "markdown",
   "metadata": {},
   "source": [
    "$ P(N_1 = k_1, N_2 = k_2, N_3 = k_3) = \\frac{n!}{k_1!k_2!k_3!}*p_1^{k_1}*p_2^{k_2}*p_3^{k_3} $"
   ]
  },
  {
   "cell_type": "markdown",
   "metadata": {},
   "source": [
    "Fun fact: you have just derived the probabilty mass function of the multinomial distribution!"
   ]
  },
  {
   "cell_type": "markdown",
   "metadata": {
    "nbgrader": {
     "grade": false,
     "grade_id": "codebook",
     "locked": true,
     "schema_version": 2,
     "solution": false
    }
   },
   "source": [
    "## Election Polling\n",
    "\n",
    "Political polling is a type of public opinion polling that can at best represent a snapshot of public opinion at the particular moment in time. Voter opinion shifts from week to week, even day to day, as candidates battle it out on the campaign field.\n",
    "\n",
    "Polls usually start with a \"horse-race\" question, where respondents are asked whom they would vote for in a head-to-head race if the election were tomorrow: Candidate A or Candidate B. The survey begins with this question so that the respondent is not influenced by any of the other questions asked in the survey. Some of these other questions are asked to help assess how likely is it that the respondent will vote. Other questions are asked about age, education, and sex in order to adjust the findings if one group appears overly represented in the sample.\n",
    "\n",
    "Pollsters typically use [random digit dialing](https://en.wikipedia.org/wiki/Random_digit_dialing) to contact people."
   ]
  },
  {
   "cell_type": "markdown",
   "metadata": {},
   "source": [
    "### Question 5"
   ]
  },
  {
   "cell_type": "markdown",
   "metadata": {
    "deletable": false,
    "editable": false
   },
   "source": [
    "#### Part 1 ####\n",
    "\n",
    "If we're trying to predict the results of the Clinton vs. Trump presidential race, what is the population of interest? \n",
    "\n",
    "<!--\n",
    "BEGIN QUESTION\n",
    "name: q5a\n",
    "manual: true\n",
    "points: 1\n",
    "-->\n",
    "<!-- EXPORT TO PDF -->"
   ]
  },
  {
   "cell_type": "markdown",
   "metadata": {},
   "source": [
    "People in the US who are age 18 or over and are otherwise eligible to vote."
   ]
  },
  {
   "cell_type": "markdown",
   "metadata": {
    "deletable": false,
    "editable": false,
    "nbgrader": {
     "grade": false,
     "grade_id": "cell-5a5f851db609367a",
     "locked": true,
     "schema_version": 2,
     "solution": false
    }
   },
   "source": [
    "#### Part 2 ####\n",
    "\n",
    "What is the sampling frame?\n",
    "\n",
    "<!--\n",
    "BEGIN QUESTION\n",
    "name: q5b\n",
    "manual: true\n",
    "points: 1\n",
    "-->\n",
    "<!-- EXPORT TO PDF -->"
   ]
  },
  {
   "cell_type": "markdown",
   "metadata": {},
   "source": [
    "People who answer the phone when pollsters call them via RDD. Generally, the sampling frame is made up of voters who respond to the poll."
   ]
  },
  {
   "cell_type": "markdown",
   "metadata": {
    "nbgrader": {
     "grade": false,
     "grade_id": "examine-contents",
     "locked": true,
     "schema_version": 2,
     "solution": false
    }
   },
   "source": [
    "### How might the sampling frame differ from the population?\n",
    "\n",
    "After the fact, many experts have studied the 2016 election results. For example, according to the American Association for Public Opinion Research (AAPOR), predictions made before the election were flawed for three key reasons:\n",
    "\n",
    "1. voters changed their preferences a few days before the election\n",
    "2. those sampled were not representative of the voting population, e.g., some said that there was an overrepresentation of college graduates in some poll samples \n",
    "3. voters kept their support for Trump to themselves (hidden from the pollsters)\n",
    "\n",
    "In the next two problems on this homework, we will do two things:\n",
    "\n",
    "+ HW Question 7: We will carry out a study of the sampling error when there is no bias. In other words, we will try to compute the chance that we get the election result wrong even if we collect our sample in a manner that is completely correct. In this case, any failure of our prediction is due entirely to random chance.\n",
    "+ HW Question 8: We will carry out a study of the sampling error when there is bias of the second type from the list above. In other words, we will try to compute the chance that we get the election result wrong if we have a small systematic bias. In this case, any failure of our prediction is due to a combination of random chance and our bias.\n"
   ]
  },
  {
   "cell_type": "markdown",
   "metadata": {
    "deletable": false,
    "editable": false
   },
   "source": [
    "### Question 6\n",
    "\n",
    "Why can't we assess the impact of the other two biases (voters changing preference and voters hiding their preference)? \n",
    "\n",
    "Note: You might find it easier to complete this question after you've completed the rest of the homework including the simulation study.\n",
    "\n",
    "<!--\n",
    "BEGIN QUESTION\n",
    "name: q6\n",
    "manual: true\n",
    "points: 1\n",
    "-->\n",
    "<!-- EXPORT TO PDF -->"
   ]
  },
  {
   "cell_type": "markdown",
   "metadata": {},
   "source": [
    "People changing their minds or lying is not something we as data collectors/analysts can control. The demographics of poll respondents, on the other hand, are much easier to see and correct for by introducing a numerical bias of some sort in the data. The criticism of these poll was that there were a higher percentage of college graduates interviewed than was appropriate for representing the overall population. If you make an assumption about who college graduates are more likely to vote for, it's much easier to analyze that bias versus confounding factors that follow no pattern (like changing ones mind after giving an answer)."
   ]
  },
  {
   "cell_type": "markdown",
   "metadata": {
    "nbgrader": {
     "grade": false,
     "grade_id": "examine-size",
     "locked": true,
     "schema_version": 2,
     "solution": false
    }
   },
   "source": [
    "### How large was the sampling error?\n",
    "\n",
    "In some states the race was very close, and it may have been simply sampling error, i.e., random chance that the majority of the voters chosen for the sample voted for Clinton. \n",
    "\n",
    "One year after the 2016 election, Nate Silver wrote  in\n",
    "*The Media Has A Probability Problem* that\n",
    "the \"media’s demand for certainty -- and its lack of statistical rigor -- is a bad match for our complex world.\"\n",
    "FiveThirtyEight forecasted that Clinton had about a 70 percent chance of winning.  \n",
    "\n",
    "\n",
    "A 2- or 3-point polling error in Trump’s favor (typical error historically)  would likely be enough to tip the Electoral College to him. \n",
    "\n",
    "We will first carry out a simulation study to assess the impact of the sampling error on the predictions.\n"
   ]
  },
  {
   "cell_type": "markdown",
   "metadata": {
    "nbgrader": {
     "grade": false,
     "grade_id": "load-data",
     "locked": true,
     "schema_version": 2,
     "solution": false
    }
   },
   "source": [
    "## The Electoral College\n",
    "\n",
    "The US president is chosen by the Electoral College, not by the\n",
    "popular vote. Each state is alotted a certan number of \n",
    "electoral college votes, as a function of their population.\n",
    "Whomever wins in the state gets all of the electoral college votes for that state.\n",
    "\n",
    "There are 538 electoral college votes (hence the name of the Nate Silver's site, FiveThirtyEight).\n",
    "\n",
    "Pollsters correctly predicted the election outcome in 46 of the 50 states. \n",
    "For these 46 states Trump received 231 and Clinton received 232 electoral college votes.\n",
    "\n",
    "The remaining 4 states accounted for a total of 75 votes, and \n",
    "whichever candidate received the majority of the electoral college votes in these states would win the election. \n",
    "\n",
    "These states were Florida, Michigan, Pennsylvania, and Wisconsin.\n",
    "\n",
    "|State |Electoral College Votes|\n",
    "| --- | --- |\n",
    "|Florida | 29 |\n",
    "|Michigan | 16 |\n",
    "|Pennsylvania | 20 |\n",
    "|Wisconsin | 10|\n",
    "\n",
    "For Donald Trump to win the election, he had to win either:\n",
    "* Florida + one (or more) other states\n",
    "* Michigan, Pennsylvania, and Wisconsin\n",
    "\n",
    "\n",
    "The electoral margins were very narrow in these four states, as seen below:\n",
    "\n",
    "\n",
    "|State | Trump |   Clinton | Total Voters |\n",
    "| --- | --- |  --- |  --- |\n",
    "|Florida | 49.02 | 47.82 | 9,419,886  | \n",
    "|Michigan | 47.50 | 47.27  |  4,799,284|\n",
    "|Pennsylvania | 48.18 | 47.46 |  6,165,478|\n",
    "|Wisconsin | 47.22 | 46.45  |  2,976,150|\n",
    "\n",
    "Those narrow electoral margins can make it hard to predict the outcome given the sample sizes that the polls used. "
   ]
  },
  {
   "cell_type": "markdown",
   "metadata": {
    "nbgrader": {
     "grade": false,
     "grade_id": "q1",
     "locked": true,
     "schema_version": 2,
     "solution": false
    }
   },
   "source": [
    "---\n",
    "## Simulation Study of the Sampling Error\n",
    "\n",
    "Now that we know how people actually voted, we can carry\n",
    "out a simulation study that imitates the polling.\n",
    "\n",
    "Our ultimate goal in this problem is to understand the chance that we will incorrectly call the election for Hillary Clinton even if our sample was collected with absolutely no bias."
   ]
  },
  {
   "cell_type": "markdown",
   "metadata": {
    "deletable": false,
    "editable": false,
    "nbgrader": {
     "grade": false,
     "grade_id": "q1a",
     "locked": true,
     "schema_version": 2,
     "solution": false
    }
   },
   "source": [
    "### Question 7\n",
    "\n",
    "#### Part 1 \n",
    "\n",
    "For your convenience, the results of the vote in the four pivotal states is repeated below:\n",
    "\n",
    "|State | Trump |   Clinton | Total Voters |\n",
    "| --- | --- |  --- |  --- |\n",
    "|Florida | 49.02 | 47.82 | 9,419,886  | \n",
    "|Michigan | 47.50 | 47.27  |  4,799,284|\n",
    "|Pennsylvania | 48.18 | 47.46 |  6,165,478|\n",
    "|Wisconsin | 47.22 | 46.45  |  2,976,150|\n",
    "\n",
    "\n",
    "Using the table above, write a function `draw_state_sample(N, state)` that returns a sample with replacement of N voters from the given state. Your result should be returned as a list, where the first element is the number of Trump votes, the second element is the number of Clinton votes, and the third is the number of Other votes. For example, `draw_state_sample(1500, \"florida\")` could return `[727, 692, 81]`. You may assume that the state name is given in all lower case.\n",
    "\n",
    "You might find `np.random.multinomial` useful.\n",
    "\n",
    "<!--\n",
    "BEGIN QUESTION\n",
    "name: q7a\n",
    "points: 2\n",
    "-->"
   ]
  },
  {
   "cell_type": "code",
   "execution_count": 15,
   "metadata": {},
   "outputs": [],
   "source": [
    "probs_per_state = {\n",
    "    \"florida\":[.4902, .4782, .0316],\n",
    "    \"michigan\": [.4750, .4727, .0523],\n",
    "    \"pennsylvania\": [.4818, .4746, .0436],\n",
    "    \"wisconsin\": [.4722, .4625, .0653]\n",
    "}\n",
    "\n",
    "def draw_state_sample(N, state):\n",
    "    return np.random.multinomial(N, probs_per_state[state])"
   ]
  },
  {
   "cell_type": "code",
   "execution_count": 16,
   "metadata": {
    "deletable": false,
    "editable": false
   },
   "outputs": [
    {
     "name": "stdout",
     "output_type": "stream",
     "text": [
      "~~~~~~~~~~~~~~~~~~~~~~~~~~~~~~~~~~~~~~~~~~~~~~~~~~~~~~~~~~~~~~~~~~~~~\n",
      "Running tests\n",
      "\n",
      "---------------------------------------------------------------------\n",
      "Test summary\n",
      "    Passed: 3\n",
      "    Failed: 0\n",
      "[ooooooooook] 100.0% passed\n",
      "\n"
     ]
    }
   ],
   "source": [
    "ok.grade(\"q7a\");"
   ]
  },
  {
   "cell_type": "markdown",
   "metadata": {
    "deletable": false,
    "editable": false
   },
   "source": [
    "#### Part 2\n",
    "\n",
    "Now, create a function `trump_advantage` that takes in a sample of votes (like the one returned by `draw_state_sample`) and returns the difference in the proportion of votes between Trump and Clinton. For example `trump_advantage([100, 60, 40])` would return `0.2`, since Trump had 50% of the votes in this sample and Clinton had 30%.\n",
    "\n",
    "<!--\n",
    "BEGIN QUESTION\n",
    "name: q7b\n",
    "points: 1\n",
    "-->"
   ]
  },
  {
   "cell_type": "code",
   "execution_count": 17,
   "metadata": {},
   "outputs": [],
   "source": [
    "def trump_advantage(voter_sample):\n",
    "    return (voter_sample[0]-voter_sample[1])/np.sum(voter_sample)"
   ]
  },
  {
   "cell_type": "code",
   "execution_count": 18,
   "metadata": {
    "deletable": false,
    "editable": false
   },
   "outputs": [
    {
     "name": "stdout",
     "output_type": "stream",
     "text": [
      "~~~~~~~~~~~~~~~~~~~~~~~~~~~~~~~~~~~~~~~~~~~~~~~~~~~~~~~~~~~~~~~~~~~~~\n",
      "Running tests\n",
      "\n",
      "---------------------------------------------------------------------\n",
      "Test summary\n",
      "    Passed: 3\n",
      "    Failed: 0\n",
      "[ooooooooook] 100.0% passed\n",
      "\n"
     ]
    }
   ],
   "source": [
    "ok.grade(\"q7b\");"
   ]
  },
  {
   "cell_type": "markdown",
   "metadata": {
    "deletable": false,
    "editable": false
   },
   "source": [
    "#### Part 3\n",
    "\n",
    "Simulate Trump's advantage across 100,000 simple random samples of 1500 voters for the state of Pennsylvania and store the results of each simulation in a list called `simulations`. \n",
    "\n",
    "That is, `simulations[i]` should be Trump's percentage advantage for the `i`th simple random sample.\n",
    "\n",
    "<!--\n",
    "BEGIN QUESTION\n",
    "name: q7c\n",
    "points: 1\n",
    "-->"
   ]
  },
  {
   "cell_type": "code",
   "execution_count": 19,
   "metadata": {},
   "outputs": [],
   "source": [
    "srs_size = 100000\n",
    "simulations = []\n",
    "for i in range(srs_size):\n",
    "    penn_sample = draw_state_sample(1500, \"pennsylvania\")\n",
    "    trump = trump_advantage(penn_sample)\n",
    "    simulations.append(trump)"
   ]
  },
  {
   "cell_type": "code",
   "execution_count": 20,
   "metadata": {
    "deletable": false,
    "editable": false
   },
   "outputs": [
    {
     "name": "stdout",
     "output_type": "stream",
     "text": [
      "~~~~~~~~~~~~~~~~~~~~~~~~~~~~~~~~~~~~~~~~~~~~~~~~~~~~~~~~~~~~~~~~~~~~~\n",
      "Running tests\n",
      "\n",
      "---------------------------------------------------------------------\n",
      "Test summary\n",
      "    Passed: 3\n",
      "    Failed: 0\n",
      "[ooooooooook] 100.0% passed\n",
      "\n"
     ]
    }
   ],
   "source": [
    "ok.grade(\"q7c\");"
   ]
  },
  {
   "cell_type": "markdown",
   "metadata": {
    "deletable": false,
    "editable": false,
    "nbgrader": {
     "grade": false,
     "grade_id": "q1c",
     "locked": true,
     "schema_version": 2,
     "solution": false
    }
   },
   "source": [
    "#### Part 4\n",
    "\n",
    "Make a histogram of the sampling distribution of Trump's percentage advantage in Pennsylvania. Make sure to give your plot a title and add labels where appropriate.\n",
    "Hint: You should use the [`plt.hist`](https://matplotlib.org/3.1.1/api/_as_gen/matplotlib.pyplot.hist.html) function in your code.\n",
    "\n",
    "Make sure to include a title as well as axis labels. You can do this using `plt.title`, `plt.xlabel`, and `plt.ylabel`.\n",
    "\n",
    "<!--\n",
    "BEGIN QUESTION\n",
    "name: q7d\n",
    "manual: true\n",
    "points: 1\n",
    "-->\n",
    "<!-- EXPORT TO PDF -->"
   ]
  },
  {
   "cell_type": "code",
   "execution_count": 21,
   "metadata": {
    "scrolled": false
   },
   "outputs": [
    {
     "data": {
      "text/plain": [
       "Text(0, 0.5, '# of simulations')"
      ]
     },
     "execution_count": 21,
     "metadata": {},
     "output_type": "execute_result"
    },
    {
     "data": {
      "image/png": "[encoded data removed]",
      "text/plain": [
       "<Figure size 432x288 with 1 Axes>"
      ]
     },
     "metadata": {
      "needs_background": "light"
     },
     "output_type": "display_data"
    }
   ],
   "source": [
    "plt.hist(simulations)\n",
    "plt.title(\"Trump's % advantage in PA\")\n",
    "plt.xlabel(\"% advantage\")\n",
    "plt.ylabel(\"# of simulations\")"
   ]
  },
  {
   "cell_type": "markdown",
   "metadata": {
    "deletable": false,
    "editable": false
   },
   "source": [
    "#### Part 5\n",
    "\n",
    "Now write a function `trump_wins(N)` that creates a sample of N voters for each of the four crucial states (Florida, Michigan, Pennsylvania, and Wisconsin) and returns 1 if Trump is predicted to win based on these samples and 0 if Trump is predicted to lose.\n",
    "\n",
    "Recall that for Trump to win the election, he must either:\n",
    "* Win the state of Florida and 1 or more other states\n",
    "* Win Michigan, Pennsylvania, and Wisconsin\n",
    "\n",
    "<!--\n",
    "BEGIN QUESTION\n",
    "name: q7e\n",
    "manual: false\n",
    "points: 2\n",
    "-->"
   ]
  },
  {
   "cell_type": "code",
   "execution_count": 22,
   "metadata": {},
   "outputs": [],
   "source": [
    "def trump_wins(N):\n",
    "    percents = { 'flo' : trump_advantage(draw_state_sample(N, \"florida\")),\n",
    "        'mich' : trump_advantage(draw_state_sample(N, \"michigan\")),\n",
    "        'penn' : trump_advantage(draw_state_sample(N, \"pennsylvania\")),\n",
    "        'wis' : trump_advantage(draw_state_sample(N, \"wisconsin\"))\n",
    "    }\n",
    "    if percents['flo']>0 and (percents['mich']>0 or percents['penn']>0 or percents['wis']>0):\n",
    "        return 1\n",
    "    elif percents['flo']<0 and percents['mich']>0 and percents['penn']>0 and percents['wis']>0:\n",
    "        return 1\n",
    "    else:\n",
    "        return 0"
   ]
  },
  {
   "cell_type": "code",
   "execution_count": 23,
   "metadata": {
    "deletable": false,
    "editable": false
   },
   "outputs": [
    {
     "name": "stdout",
     "output_type": "stream",
     "text": [
      "~~~~~~~~~~~~~~~~~~~~~~~~~~~~~~~~~~~~~~~~~~~~~~~~~~~~~~~~~~~~~~~~~~~~~\n",
      "Running tests\n",
      "\n",
      "---------------------------------------------------------------------\n",
      "Test summary\n",
      "    Passed: 1\n",
      "    Failed: 0\n",
      "[ooooooooook] 100.0% passed\n",
      "\n"
     ]
    }
   ],
   "source": [
    "ok.grade(\"q7e\");"
   ]
  },
  {
   "cell_type": "markdown",
   "metadata": {
    "deletable": false,
    "editable": false
   },
   "source": [
    "#### Part 6\n",
    "\n",
    "If we repeat 100,000 simulations of the election, i.e. we call `trump_wins(1500)` 100,000 times, what proportion of these simulations predict a Trump victory? Give your answer as `percent_trump`.\n",
    "\n",
    "This number represents the percent chance that a given sample will correctly predict Trump's victory *even if the sample was collected with absoutely no bias*. \n",
    "\n",
    "**Note: Many laypeople, even well educated ones, assume that this number should be 1. After all, how could a non-biased sample be wrong? This is the type of incredibly important intuition we hope to develop in you throughout this class and your future data science coursework.**\n",
    "\n",
    "<!--\n",
    "BEGIN QUESTION\n",
    "name: q7f\n",
    "manual: false\n",
    "points: 1\n",
    "-->"
   ]
  },
  {
   "cell_type": "code",
   "execution_count": 24,
   "metadata": {},
   "outputs": [
    {
     "data": {
      "text/plain": [
       "0.69882"
      ]
     },
     "execution_count": 24,
     "metadata": {},
     "output_type": "execute_result"
    }
   ],
   "source": [
    "simulation_two = []\n",
    "num = 100000\n",
    "for i in range(num):\n",
    "    simulation_two.append(trump_wins(1500))\n",
    "percent_trump = sum(simulation_two)/num\n",
    "percent_trump"
   ]
  },
  {
   "cell_type": "code",
   "execution_count": 25,
   "metadata": {
    "deletable": false,
    "editable": false
   },
   "outputs": [
    {
     "name": "stdout",
     "output_type": "stream",
     "text": [
      "~~~~~~~~~~~~~~~~~~~~~~~~~~~~~~~~~~~~~~~~~~~~~~~~~~~~~~~~~~~~~~~~~~~~~\n",
      "Running tests\n",
      "\n",
      "---------------------------------------------------------------------\n",
      "Test summary\n",
      "    Passed: 2\n",
      "    Failed: 0\n",
      "[ooooooooook] 100.0% passed\n",
      "\n"
     ]
    }
   ],
   "source": [
    "ok.grade(\"q7f\");"
   ]
  },
  {
   "cell_type": "markdown",
   "metadata": {},
   "source": [
    "We have just studied the sampling error, and found how \n",
    "our predictions might look if there was no bias in our \n",
    "sampling process. \n",
    "Essentially, we assumed that the people surveyed didn't change their minds, \n",
    "didn't hide who they voted for, and were representative\n",
    "of those who voted on election day."
   ]
  },
  {
   "cell_type": "markdown",
   "metadata": {
    "nbgrader": {
     "grade": false,
     "grade_id": "q2",
     "locked": true,
     "schema_version": 2,
     "solution": false
    }
   },
   "source": [
    "---\n",
    "## Simulation Study of Selection Bias\n",
    "\n",
    "According to an article by Grotenhuis, Subramanian, Nieuwenhuis, Pelzer and Eisinga (https://blogs.lse.ac.uk/usappblog/2018/02/01/better-poll-sampling-would-have-cast-more-doubt-on-the-potential-for-hillary-clinton-to-win-the-2016-election/#Author):\n",
    "\n",
    "\"In a perfect world, polls sample from the population of voters, who would state their political preference perfectly clearly and then vote accordingly.\"\n",
    "\n",
    "That's the simulation study that we just performed. \n",
    "\n",
    "\n",
    "It's difficult to control for every source of selection bias.\n",
    "And, it's not possible to control for some of the other sources of bias.\n",
    "\n",
    "Next we investigate the effect of small sampling bias on the polling results in these four battleground states.  \n",
    "\n",
    "Throughout this problem, we'll examine the impacts of a 0.5 percent bias in favor of Clinton in each state. Such a bias has been suggested because highly educated voters tend to be more willing to participate in polls."
   ]
  },
  {
   "cell_type": "markdown",
   "metadata": {
    "deletable": false,
    "editable": false,
    "nbgrader": {
     "grade": false,
     "grade_id": "q2a",
     "locked": true,
     "schema_version": 2,
     "solution": false
    }
   },
   "source": [
    "### Question 8\n",
    "\n",
    "Throughout this problem, adjust the selection of voters so that there is a 0.5% bias in favor of Clinton in each of these states. \n",
    "\n",
    "For example, in Pennsylvania Clinton received 47.46 percent of the votes and Trump 48.18 percent. Increase the population of Clinton voters to 47.46 + 0.5  percent and correspondingly decrease the percent of Trump voters. \n",
    "\n",
    "#### Part 1\n",
    "\n",
    "Simulate Trump's advantage across 100,000 simple random samples of 1500 voters for the state of Pennsylvania and store the results of each simulation in a list called `biased_simulations`.\n",
    "\n",
    "That is, `biased_simulation[i]` should hold the result of the `i`th simulation.\n",
    "\n",
    "That is, your answer to this problem should be just like your answer from Question 7 part 3, but now using samples that are biased as described above.\n",
    "\n",
    "<!--\n",
    "BEGIN QUESTION\n",
    "name: q8a\n",
    "points: 1\n",
    "-->"
   ]
  },
  {
   "cell_type": "code",
   "execution_count": 26,
   "metadata": {},
   "outputs": [],
   "source": [
    "biased_probs_per_state = {\n",
    "    \"florida\":[0.4852, 0.4832, .0316],\n",
    "    \"michigan\": [.4700, .4777, .0523],\n",
    "    \"pennsylvania\": [.4768, 0.4796, .0436],\n",
    "    \"wisconsin\": [0.4672, 0.4675, .0653]\n",
    "}\n",
    "\n",
    "def draw_biased_state_sample(N, state):\n",
    "    return np.random.multinomial(N, biased_probs_per_state[state])\n",
    "\n",
    "srs_size_again = 100000\n",
    "biased_simulations = []\n",
    "for i in range(srs_size_again):\n",
    "    penn_two = draw_biased_state_sample(1500, \"pennsylvania\")\n",
    "    trump_two = trump_advantage(penn_sample)\n",
    "    biased_simulations.append(trump_two)"
   ]
  },
  {
   "cell_type": "code",
   "execution_count": 27,
   "metadata": {
    "deletable": false,
    "editable": false
   },
   "outputs": [
    {
     "name": "stdout",
     "output_type": "stream",
     "text": [
      "~~~~~~~~~~~~~~~~~~~~~~~~~~~~~~~~~~~~~~~~~~~~~~~~~~~~~~~~~~~~~~~~~~~~~\n",
      "Running tests\n",
      "\n",
      "---------------------------------------------------------------------\n",
      "Test summary\n",
      "    Passed: 6\n",
      "    Failed: 0\n",
      "[ooooooooook] 100.0% passed\n",
      "\n"
     ]
    }
   ],
   "source": [
    "ok.grade(\"q8a\");"
   ]
  },
  {
   "cell_type": "markdown",
   "metadata": {
    "deletable": false,
    "editable": false
   },
   "source": [
    "#### Part 2\n",
    "\n",
    "Make a histogram of the new sampling distribution of Trump's advantage now using these biased samples. That is, your histogram should be the same as in Q8.4, but now using the biased samples.\n",
    "\n",
    "Make sure to give your plot a title and add labels where appropriate.\n",
    "\n",
    "\n",
    "<!--\n",
    "BEGIN QUESTION\n",
    "name: q8b\n",
    "points: 1\n",
    "-->"
   ]
  },
  {
   "cell_type": "code",
   "execution_count": 28,
   "metadata": {},
   "outputs": [
    {
     "data": {
      "text/plain": [
       "Text(0, 0.5, '# of biased simulations')"
      ]
     },
     "execution_count": 28,
     "metadata": {},
     "output_type": "execute_result"
    },
    {
     "data": {
      "image/png": "[encoded data removed]",
      "text/plain": [
       "<Figure size 432x288 with 1 Axes>"
      ]
     },
     "metadata": {
      "needs_background": "light"
     },
     "output_type": "display_data"
    }
   ],
   "source": [
    "plt.hist(biased_simulations)\n",
    "plt.title(\"Trump's biased % advantage in PA\")\n",
    "plt.xlabel(\"biased % advantage\")\n",
    "plt.ylabel(\"# of biased simulations\")"
   ]
  },
  {
   "cell_type": "markdown",
   "metadata": {
    "deletable": false,
    "editable": false
   },
   "source": [
    "#### Part 3\n",
    "\n",
    "Compare the histogram you created in Q8.2 to that in Q7.4. \n",
    "\n",
    "<!--\n",
    "BEGIN QUESTION\n",
    "name: q8c\n",
    "manual: true\n",
    "points: 2\n",
    "-->\n",
    "<!-- EXPORT TO PDF -->"
   ]
  },
  {
   "cell_type": "markdown",
   "metadata": {},
   "source": [
    "This histogram is much less spread than the other. Adding the bias, I noticed, resulted in the Trump and Clinton probabilities being closer in value, which is likely what resulted in this 'focusing' of the histogram."
   ]
  },
  {
   "cell_type": "markdown",
   "metadata": {
    "deletable": false,
    "editable": false
   },
   "source": [
    "#### Part 4\n",
    "\n",
    "Now perform 100,000 simulations of all four states and return the proportion of these simulations that result in a Trump victory. This is the same fraction that you computed in Q7.6, but now using your biased samples.\n",
    "\n",
    "Give your answer as `percent_trump_biased`.\n",
    "\n",
    "This number represents the chance that a sample biased 0.5% in Hillary Clinton's favor will correctly predict Trump's victory. You should observe that the chance is signficantly lower than with an unbiased sample, i.e. your answer in Q7.6.\n",
    "\n",
    "<!--\n",
    "BEGIN QUESTION\n",
    "name: q8d\n",
    "manual: false\n",
    "points: 1\n",
    "-->"
   ]
  },
  {
   "cell_type": "code",
   "execution_count": 29,
   "metadata": {},
   "outputs": [
    {
     "data": {
      "text/plain": [
       "0.47056"
      ]
     },
     "execution_count": 29,
     "metadata": {},
     "output_type": "execute_result"
    }
   ],
   "source": [
    "def trump_wins_biased(N): \n",
    "    biased_percents = { \n",
    "        'flo' : trump_advantage(draw_biased_state_sample(N, \"florida\")),\n",
    "        'mich' : trump_advantage(draw_biased_state_sample(N, \"michigan\")),\n",
    "        'penn' : trump_advantage(draw_biased_state_sample(N, \"pennsylvania\")),\n",
    "        'wis' : trump_advantage(draw_biased_state_sample(N, \"wisconsin\"))\n",
    "    }\n",
    "    if biased_percents['flo']>0 and (biased_percents['mich']>0 or biased_percents['penn']>0 or biased_percents['wis']>0):\n",
    "        return 1\n",
    "    elif biased_percents['flo']<0 and biased_percents['mich']>0 and biased_percents['penn']>0 and biased_percents['wis']>0:\n",
    "        return 1\n",
    "    else:\n",
    "        return 0\n",
    "\n",
    "\n",
    "biased_simulation_final = []\n",
    "for i in range(100000):\n",
    "    biased_simulation_final.append(trump_wins_biased(1500))\n",
    "    \n",
    "percent_trump_biased = sum(biased_simulation_final)/100000   \n",
    "percent_trump_biased\n"
   ]
  },
  {
   "cell_type": "code",
   "execution_count": 30,
   "metadata": {
    "deletable": false,
    "editable": false,
    "scrolled": true
   },
   "outputs": [
    {
     "name": "stdout",
     "output_type": "stream",
     "text": [
      "~~~~~~~~~~~~~~~~~~~~~~~~~~~~~~~~~~~~~~~~~~~~~~~~~~~~~~~~~~~~~~~~~~~~~\n",
      "Running tests\n",
      "\n",
      "---------------------------------------------------------------------\n",
      "Test summary\n",
      "    Passed: 2\n",
      "    Failed: 0\n",
      "[ooooooooook] 100.0% passed\n",
      "\n"
     ]
    }
   ],
   "source": [
    "ok.grade(\"q8d\");"
   ]
  },
  {
   "cell_type": "markdown",
   "metadata": {},
   "source": [
    "## Further Study\n"
   ]
  },
  {
   "cell_type": "markdown",
   "metadata": {
    "deletable": false,
    "editable": false,
    "nbgrader": {
     "grade": false,
     "grade_id": "q2c",
     "locked": true,
     "schema_version": 2,
     "solution": false
    }
   },
   "source": [
    "### Question 9\n",
    "\n",
    "Would increasing the sample size have helped?\n",
    "\n",
    "#### Part 1\n",
    "\n",
    "Try a sample size of 5,000 and run 100,000 simulations of a sample with replacement. What proportion of the 100,000 times is Trump predicted to win the election in the unbiased setting? In the biased setting?\n",
    "\n",
    "Give your answers as `high_sample_size_unbiased_percent_trump` and `high_sample_size_biased_percent_trump`.\n",
    "\n",
    "<!--\n",
    "BEGIN QUESTION\n",
    "name: q9a\n",
    "manual: false\n",
    "points: 1\n",
    "-->"
   ]
  },
  {
   "cell_type": "code",
   "execution_count": 31,
   "metadata": {},
   "outputs": [
    {
     "name": "stdout",
     "output_type": "stream",
     "text": [
      "0.837 0.45966\n"
     ]
    }
   ],
   "source": [
    "unbiased_high = []\n",
    "for i in range(100000):\n",
    "    unbiased_high.append(trump_wins(5000))\n",
    "high_sample_size_unbiased_percent_trump = sum(unbiased_high)/100000\n",
    "\n",
    "biased_high = []\n",
    "for i in range(100000):\n",
    "    biased_high.append(trump_wins_biased(5000))\n",
    "high_sample_size_biased_percent_trump = sum(biased_high)/100000\n",
    "\n",
    "print(high_sample_size_unbiased_percent_trump, high_sample_size_biased_percent_trump)"
   ]
  },
  {
   "cell_type": "code",
   "execution_count": 32,
   "metadata": {
    "deletable": false,
    "editable": false
   },
   "outputs": [
    {
     "name": "stdout",
     "output_type": "stream",
     "text": [
      "~~~~~~~~~~~~~~~~~~~~~~~~~~~~~~~~~~~~~~~~~~~~~~~~~~~~~~~~~~~~~~~~~~~~~\n",
      "Running tests\n",
      "\n",
      "---------------------------------------------------------------------\n",
      "Test summary\n",
      "    Passed: 2\n",
      "    Failed: 0\n",
      "[ooooooooook] 100.0% passed\n",
      "\n"
     ]
    }
   ],
   "source": [
    "ok.grade(\"q9a\");"
   ]
  },
  {
   "cell_type": "markdown",
   "metadata": {},
   "source": [
    "#### Part 2\n",
    "\n",
    "What do your observations from part 1 say about the impact of sample size\n",
    "on the sampling error and on the bias?   \n",
    "\n",
    "Extra question for those who are curious: Just for fun, you might find it interesting to see what happens with even larger sample sizes (> 5000 voters) for both the unbiased and biased cases. Can you get them up to 99% success with sufficient large samples? How many? Why or why not? If you do this, include your observations in your answer."
   ]
  },
  {
   "cell_type": "code",
   "execution_count": 33,
   "metadata": {},
   "outputs": [],
   "source": [
    "# Feel free to use this cell for any scratch work (creating visualizations, examining data, etc.)"
   ]
  },
  {
   "cell_type": "markdown",
   "metadata": {
    "deletable": false,
    "editable": false
   },
   "source": [
    "Write your answer in the cell below.\n",
    "<!--\n",
    "BEGIN QUESTION\n",
    "name: q9b\n",
    "manual: true\n",
    "points: 2\n",
    "-->\n",
    "<!-- EXPORT TO PDF -->"
   ]
  },
  {
   "cell_type": "markdown",
   "metadata": {},
   "source": [
    "The larger sample size seemed to accentuate the difference between the biased vs. unbiased simulations. In the context of the biased projection, though, the value remained largely the same; it was the unbiased sample that returned a higher percentage. This makes sense to me, since our sample size increased, thus getting closer to the actual population size of voters. Since we know the result of the election, I see that increasing the sample size reflects what actually happened. I think the main reason for the biased percentage remaining mostly the same has, again, to do with the closeness of Trump and Clinton's % chance of winning once we apply the .5% correction. Sampling more people on a distribution that is not as spread would then result in a similar distribution but with more data points."
   ]
  },
  {
   "cell_type": "markdown",
   "metadata": {
    "deletable": false,
    "editable": false
   },
   "source": [
    "### Question 10\n",
    "\n",
    "According to FiveThirtyEight: \"... Polls of the November 2016 presidential election were about as accurate as polls of presidential elections have been on average since 1972.\"\n",
    "\n",
    "When the margin of victory may be relatively small as it was in 2016, why don't polling agencies simply gather significantly larger samples to bring this error close to zero?\n",
    "\n",
    "<!--\n",
    "BEGIN QUESTION\n",
    "name: q10\n",
    "manual: true\n",
    "points: 2\n",
    "-->\n",
    "<!-- EXPORT TO PDF -->"
   ]
  },
  {
   "cell_type": "markdown",
   "metadata": {},
   "source": [
    "Intuitively, it seems harder to gather more data while maintaining a reasonable level of 'unbiased-ness' in the sample itself. They can run the risk of further skewing their data if they record more information from an already biased portion of their sampling frame (i.e. poll respondents). Especially if sources of error come from respondents giving misinformation or later changing their minds (things out of the polls' control), having more samples available for analysis don't add much by way of error minimization."
   ]
  },
  {
   "cell_type": "markdown",
   "metadata": {
    "deletable": false,
    "editable": false
   },
   "source": [
    "### Question 11\n",
    "Help us get to know you by filling out [this survey](https://docs.google.com/forms/d/e/1FAIpQLSfNV5KjPFLCNCi_nItBEVmaK8oBKKCdw0SmmXZ3oZJ0rlHQxA/viewform)! You will need to be logged into your UC Berkeley account to access it. \n",
    "\n",
    "Once you've finished filling it out, you should see a secret string on the confirmation page. Assign `secret` to that secret string to get credit for taking the survey. \n",
    "\n",
    "We will also go check that you actually filled out the survey before giving you points for this question, so make sure to submit it!\n",
    "\n",
    "\n",
    "<!--\n",
    "BEGIN QUESTION\n",
    "name: q11\n",
    "manual: true\n",
    "points: 1\n",
    "-->\n",
    "<!-- EXPORT TO PDF -->"
   ]
  },
  {
   "cell_type": "code",
   "execution_count": 34,
   "metadata": {},
   "outputs": [],
   "source": [
    "secret = '4RQ9VBN'"
   ]
  },
  {
   "cell_type": "code",
   "execution_count": 35,
   "metadata": {
    "deletable": false,
    "editable": false
   },
   "outputs": [
    {
     "name": "stdout",
     "output_type": "stream",
     "text": [
      "~~~~~~~~~~~~~~~~~~~~~~~~~~~~~~~~~~~~~~~~~~~~~~~~~~~~~~~~~~~~~~~~~~~~~\n",
      "Running tests\n",
      "\n",
      "---------------------------------------------------------------------\n",
      "Test summary\n",
      "    Passed: 0\n",
      "    Failed: 0\n",
      "[k..........] 0.0% passed\n",
      "\n"
     ]
    }
   ],
   "source": [
    "ok.grade(\"q11\");"
   ]
  },
  {
   "cell_type": "markdown",
   "metadata": {},
   "source": [
    "## Submission\n",
    "\n",
    "**Important**: To make sure the test cases run correctly, click `Kernel>Restart & Run All` and make sure all of the test cases are still passing. Doing so will submit your code for you. \n",
    "\n",
    "You may submit this assignment as many times as you'd like before the deadline.\n",
    "\n",
    "**You must restart and run all cells before submitting. Otherwise, you may pass test cases locally, but not on our servers. We will not entertain regrade requests of the form, “my code passed all of my local test cases, but failed the autograder”.**"
   ]
  },
  {
   "cell_type": "markdown",
   "metadata": {
    "deletable": false,
    "editable": false
   },
   "source": [
    "# Submit\n",
    "Make sure you have run all cells in your notebook in order before running the cell below, so that all images/graphs appear in the output.\n",
    "**Please save before submitting!**\n",
    "\n",
    "<!-- EXPECT 12 EXPORTED QUESTIONS -->"
   ]
  },
  {
   "cell_type": "code",
   "execution_count": null,
   "metadata": {
    "deletable": false,
    "editable": false
   },
   "outputs": [
    {
     "name": "stdout",
     "output_type": "stream",
     "text": [
      "Generating PDF...\n",
      "Saved hw2.pdf\n"
     ]
    },
    {
     "data": {
      "application/javascript": [
       "IPython.notebook.save_checkpoint();"
      ],
      "text/plain": [
       "<IPython.core.display.Javascript object>"
      ]
     },
     "metadata": {},
     "output_type": "display_data"
    }
   ],
   "source": [
    "# Save your notebook first, then run this cell to submit.\n",
    "import jassign.to_pdf\n",
    "jassign.to_pdf.generate_pdf('hw2.ipynb', 'hw2.pdf')\n",
    "ok.submit()"
   ]
  }
 ],
 "metadata": {
  "celltoolbar": "Create Assignment",
  "kernelspec": {
   "display_name": "Python 3",
   "language": "python",
   "name": "python3"
  },
  "language_info": {
   "codemirror_mode": {
    "name": "ipython",
    "version": 3
   },
   "file_extension": ".py",
   "mimetype": "text/x-python",
   "name": "python",
   "nbconvert_exporter": "python",
   "pygments_lexer": "ipython3",
   "version": "3.6.4"
  }
 },
 "nbformat": 4,
 "nbformat_minor": 2
}
